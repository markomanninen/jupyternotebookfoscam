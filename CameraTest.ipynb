{
 "cells": [
  {
   "cell_type": "markdown",
   "metadata": {
    "collapsed": false
   },
   "source": [
    "<h1>Experiments with built-in and IP cameras on jypyter notebooks</h1>\n",
    "\n",
    "<p>I'm running these examples on MacBook Pro with Mac OS X 10.11.1</p>\n",
    "<p>First of all you need to have opencv3 installed. I had best experience when installing it with conda:</p>\n",
    "<pre><code>conda install -c https://conda.anaconda.org/menpo opencv3</code></pre>\n",
    "<p>Then for IP camera image frames I have used Opticam i4 and i5 models which are equivalent to Foscam model FI9821W. Foscam Python library (https://github.com/quatanium/foscam-python-lib) is recommended to control IP camera.</p>\n",
    "\n",
    "<h2>Test built-in camera</h2>\n",
    "<p>Code retrieved and modified from: https://github.com/bikz05/ipython-notebooks/blob/master/computer-vision/displaying-video-in-ipython-notebook.ipynb</p>\n",
    "<p>Use jupyter menu Kernel -> Interrupt to stop showing video.</p>"
   ]
  },
  {
   "cell_type": "code",
   "execution_count": 1,
   "metadata": {
    "collapsed": false
   },
   "outputs": [
    {
     "name": "stdout",
     "output_type": "stream",
     "text": [
      "Populating the interactive namespace from numpy and matplotlib\n"
     ]
    }
   ],
   "source": [
    "%pylab inline"
   ]
  },
  {
   "cell_type": "code",
   "execution_count": 2,
   "metadata": {
    "collapsed": false
   },
   "outputs": [
    {
     "data": {
      "text/html": [
       "<p>Keyboard interrupt! Releasing video resource...</p><img src=\"start.png\" style=\"width: 320px; height: auto\" />"
      ],
      "text/plain": [
       "<IPython.core.display.HTML object>"
      ]
     },
     "execution_count": 2,
     "metadata": {},
     "output_type": "execute_result"
    }
   ],
   "source": [
    "import cv2\n",
    "import time\n",
    "from matplotlib import pyplot as plt\n",
    "from IPython.display import HTML, clear_output\n",
    "\n",
    "vid = cv2.VideoCapture(0)\n",
    "# In case first frames of the video are blank small delay is established here.\n",
    "time.sleep(0.25)\n",
    "msg = \"\"\n",
    "try:\n",
    "    while True:\n",
    "        # Capture frame-by-frame\n",
    "        ret, frame = vid.read()\n",
    "        if not ret:\n",
    "            # Release the Video Device if ret is false\n",
    "            vid.release()\n",
    "            # Message to be displayed after releasing the device\n",
    "            msg = \"<p>Frame could not be retrieved! Releasing video resource...</p><img src=\\\"start.png\\\" />\"\n",
    "            break\n",
    "        # Convert the image from OpenCV BGR format to matplotlib RGB format to display the image\n",
    "        frame = cv2.cvtColor(frame, cv2.COLOR_BGR2RGB)\n",
    "        # Turn off the axis\n",
    "        plt.axis('off')\n",
    "        # Display the frame\n",
    "        plt.imshow(frame)\n",
    "        plt.show()\n",
    "        # Display the frame until new frame is available\n",
    "        clear_output(wait=True)\n",
    "except KeyboardInterrupt:\n",
    "    # Release the Video Device\n",
    "    vid.release()\n",
    "    # Message to be displayed after releasing the device\n",
    "    msg = \"<p>Keyboard interrupt! Releasing video resource...</p>\"\n",
    "\n",
    "HTML(\"%s<img src=\\\"start.png\\\" style=\\\"width: 320px; height: auto\\\" />\" % msg)"
   ]
  },
  {
   "cell_type": "markdown",
   "metadata": {},
   "source": [
    "<h2>Test image size reduction and image element extraction and labeling</h2>\n",
    "<p>You can test different test cases by changing the value of case between 1, 2, 3 and 4.</p>"
   ]
  },
  {
   "cell_type": "code",
   "execution_count": 3,
   "metadata": {
    "collapsed": false
   },
   "outputs": [
    {
     "data": {
      "text/html": [
       "<p>Keyboard interrupt! Releasing video resource...</p><img src=\"start21.png\" style=\"width: 600px; height: auto\" />     <img src=\"start22.png\" style=\"width: 600px; height: auto\" />     <img src=\"start23.png\" style=\"width: 600px; height: auto\" />"
      ],
      "text/plain": [
       "<IPython.core.display.HTML object>"
      ]
     },
     "execution_count": 3,
     "metadata": {},
     "output_type": "execute_result"
    }
   ],
   "source": [
    "%pylab inline\n",
    "import cv2\n",
    "import time\n",
    "from IPython.display import HTML, clear_output\n",
    "# import test1 functions\n",
    "from test1 import process, labels_to_bboxes, show_plots, largest_labels\n",
    "\n",
    "# resize image frame by reduce factor\n",
    "reduce = 50\n",
    "# http://matplotlib.org/examples/images_contours_and_fields/interpolation_methods.html\n",
    "interpolation = 'bicubic'\n",
    "mode = None\n",
    "\n",
    "camera = cv2.VideoCapture(0)\n",
    "time.sleep(0.25)\n",
    "\n",
    "# options are 1, 2, 3 and 4\n",
    "case = 1\n",
    "\n",
    "try:\n",
    "    # loop over the frames of the video\n",
    "    while True:\n",
    "        _, frame = camera.read()\n",
    "        # if the frame could not be grabbed, then we have reached the end of the video\n",
    "        if not _:\n",
    "            # Release the Video Device if ret is false\n",
    "            camera.release()\n",
    "            # Message to be displayed after releasing the device\n",
    "            msg = \"<p>Frame could not be retrieved! Releasing video resource...</p><img src=\\\"start2.png\\\" />\"\n",
    "\n",
    "        if case == 2:\n",
    "            frame = cv2.cvtColor(frame, cv2.COLOR_BGR2GRAY)\n",
    "        else:\n",
    "            frame = cv2.cvtColor(frame, cv2.COLOR_BGR2RGB)\n",
    "        \n",
    "        labels, images = process(frame, 6, reduce, interpolation, mode)\n",
    "        \n",
    "        if case == 1:\n",
    "            labels, images = process(frame, 6, reduce, interpolation, mode)\n",
    "            bboxes = labels_to_bboxes(labels, images, 500)\n",
    "            show_plots(images, cols=3, x=16, y=7, bboxes=bboxes)\n",
    "        elif case == 2:\n",
    "            labels, images = process(frame, 2, reduce, interpolation, mode)\n",
    "            rois = largest_labels(labels, images, 1, 500)\n",
    "            show_plots(rois, cols=3, x=10, y=14)\n",
    "        elif case == 3:\n",
    "            labels, images = process(frame, 6, reduce, interpolation, mode)\n",
    "            show_plots(images, cols=3, x=16, y=10)\n",
    "        elif case == 4:\n",
    "            labels, images = process(frame, 6, reduce, interpolation, mode)\n",
    "            show_plots([im[0] for im, mask in labels], cols=3, x=16, y=10)\n",
    "        \n",
    "        clear_output(wait=True)\n",
    "except KeyboardInterrupt:\n",
    "    # Release the Video Device (menu: Kernel->Interrupt)\n",
    "    camera.release()\n",
    "    clear_output(wait=True)\n",
    "    # Message to be displayed after releasing the device\n",
    "    msg = \"<p>Keyboard interrupt! Releasing video resource...</p>\"\n",
    "\n",
    "HTML(\"%s<img src=\\\"start21.png\\\" style=\\\"width: 600px; height: auto\\\" />\\\n",
    "     <img src=\\\"start22.png\\\" style=\\\"width: 600px; height: auto\\\" />\\\n",
    "     <img src=\\\"start23.png\\\" style=\\\"width: 600px; height: auto\\\" />\" % msg)"
   ]
  },
  {
   "cell_type": "markdown",
   "metadata": {},
   "source": [
    "<h2>Test Foscam library and camera control</h2>\n",
    "<p>Running this example should pan camera up for a second and down for a second.</p>\n",
    "<p>https://github.com/quatanium/foscam-python-lib is used to control the IP camera</p>"
   ]
  },
  {
   "cell_type": "code",
   "execution_count": 4,
   "metadata": {
    "collapsed": false
   },
   "outputs": [],
   "source": [
    "from foscam import FoscamCamera\n",
    "from time import sleep\n",
    "\n",
    "ip1 = '192.168.0.16'\n",
    "ip2 = '192.168.0.18'\n",
    "port = 88\n",
    "# needs to have at least operator priviledges for these controls\n",
    "with open('.operator') as lines:\n",
    "    username, password = lines.readlines()[0].strip().split(':')\n",
    "\n",
    "mycam = FoscamCamera(ip2, port, username, password, daemon=True, verbose=False)\n",
    "mycam.ptz_move_up()\n",
    "sleep(1)\n",
    "mycam.ptz_move_down()\n",
    "sleep(1)\n",
    "mycam.ptz_stop_run()"
   ]
  },
  {
   "cell_type": "markdown",
   "metadata": {},
   "source": [
    "<p>Running this example should return appropriate infromation from IP camera</p>"
   ]
  },
  {
   "cell_type": "code",
   "execution_count": 5,
   "metadata": {
    "collapsed": false
   },
   "outputs": [],
   "source": [
    "from foscam import FoscamCamera, FOSCAM_SUCCESS\n",
    "\n",
    "def print_info(returncode, params):\n",
    "    if returncode != FOSCAM_SUCCESS:\n",
    "        print ('Failed to get camera info! Error code: %s' % returncode)\n",
    "    else:\n",
    "        print (params)\n",
    "\n",
    "# needs to have at least admin priviledges for these controls\n",
    "with open('.administrator') as lines:\n",
    "    username, password = lines.readlines()[0].strip().split(':')\n",
    "\n",
    "mycam = FoscamCamera(ip2, port, username, password, daemon=False, verbose=False)"
   ]
  },
  {
   "cell_type": "code",
   "execution_count": 6,
   "metadata": {
    "collapsed": false
   },
   "outputs": [
    {
     "name": "stdout",
     "output_type": "stream",
     "text": [
      "{'dns2': '0.0.0.0', 'gate': '0.0.0.0', 'mask': '255.255.255.0', 'dns1': '0.0.0.0', 'ip': '192.168.0.18', 'isDHCP': '1'}\n"
     ]
    }
   ],
   "source": [
    "a = mycam.get_ip_info(print_info)"
   ]
  },
  {
   "cell_type": "code",
   "execution_count": 7,
   "metadata": {
    "collapsed": false
   },
   "outputs": [
    {
     "name": "stdout",
     "output_type": "stream",
     "text": [
      "{'mediaPort': '88', 'webPort': '88', 'httpsPort': '443'}\n"
     ]
    }
   ],
   "source": [
    "b = mycam.get_port_info(print_info)"
   ]
  },
  {
   "cell_type": "code",
   "execution_count": 8,
   "metadata": {
    "collapsed": false
   },
   "outputs": [
    {
     "name": "stdout",
     "output_type": "stream",
     "text": [
      "{}\n"
     ]
    }
   ],
   "source": [
    "c = mycam.refresh_wifi_list(print_info)"
   ]
  },
  {
   "cell_type": "markdown",
   "metadata": {},
   "source": [
    "<h2>Setting up classes for different cameras</h2>"
   ]
  },
  {
   "cell_type": "code",
   "execution_count": 9,
   "metadata": {
    "collapsed": false
   },
   "outputs": [
    {
     "name": "stdout",
     "output_type": "stream",
     "text": [
      "Populating the interactive namespace from numpy and matplotlib\n"
     ]
    }
   ],
   "source": [
    "%pylab inline\n",
    "# import test2 functions\n",
    "from test2 import Camera, IPCamera"
   ]
  },
  {
   "cell_type": "markdown",
   "metadata": {},
   "source": [
    "<h2>Connecting to three different cameras and getting frame height and width</h2>"
   ]
  },
  {
   "cell_type": "code",
   "execution_count": 10,
   "metadata": {
    "collapsed": false
   },
   "outputs": [
    {
     "name": "stdout",
     "output_type": "stream",
     "text": [
      "(720, 1280, 3)\n",
      "(720, 1280, 3)\n",
      "(720, 1280, 3)\n"
     ]
    }
   ],
   "source": [
    "# visitor priviledges are enough for the rest of the examples\n",
    "with open('.visitor') as lines:\n",
    "    username, password = lines.readlines()[0].strip().split(':')\n",
    "\n",
    "cam = Camera(0)\n",
    "print (cam.get_frame().shape)\n",
    "cam.release()\n",
    "ipcam = IPCamera(ip1, port, username, password)\n",
    "frame = ipcam.get_frame()\n",
    "print (frame.shape if frame is not None else None)\n",
    "ipcam.release()\n",
    "ipcam2 = IPCamera(ip2, port, username, password)\n",
    "frame = ipcam2.get_frame()\n",
    "print (frame.shape if frame is not None else None)\n",
    "ipcam2.release()"
   ]
  },
  {
   "cell_type": "markdown",
   "metadata": {},
   "source": [
    "<h2>Displaying multiple cameras</h2>\n",
    "<p>Cameras are also attached with face detection in this example!</p>\n",
    "<p>For some reason keyboard interrupt has to be done several times at times...</p>"
   ]
  },
  {
   "cell_type": "code",
   "execution_count": 11,
   "metadata": {
    "collapsed": false
   },
   "outputs": [
    {
     "data": {
      "text/html": [
       "Releasing video resources...<img src=\"start3.png\" style=\"width: 600px; height: auto\" />"
      ],
      "text/plain": [
       "<IPython.core.display.HTML object>"
      ]
     },
     "execution_count": 11,
     "metadata": {},
     "output_type": "execute_result"
    }
   ],
   "source": [
    "# import test2 functions\n",
    "from test2 import process, show_frames, clear_output, HTML\n",
    "\n",
    "cameras = []\n",
    "cameraA = Camera(0)\n",
    "cameras.append(cameraA)\n",
    "cameraB = IPCamera(ip1, port, username, password)\n",
    "cameras.append(cameraB)\n",
    "cameraC = IPCamera(ip2, port, username, password)\n",
    "cameras.append(cameraC)\n",
    "\n",
    "msg = \"\"\n",
    "try:\n",
    "    cols = len(cameras)\n",
    "    while True:\n",
    "        frames = []\n",
    "        for cam in cameras:\n",
    "            frame = cam.get_frame(process)\n",
    "            if frame is not None:\n",
    "                frames.append(frame)\n",
    "        if len(frames) > 0:\n",
    "            show_frames(frames, cols=cols, x=16)\n",
    "\n",
    "except KeyboardInterrupt:\n",
    "    # Release the Video Device (menu: Kernel->Interrupt)\n",
    "    for cam in cameras:\n",
    "        cam.release()\n",
    "    # Message to be displayed after releasing the device\n",
    "    clear_output(wait=True)\n",
    "    msg = \"Releasing video resources...\"\n",
    "\n",
    "HTML(\"%s<img src=\\\"start3.png\\\" style=\\\"width: 600px; height: auto\\\" />\" % msg)"
   ]
  },
  {
   "cell_type": "markdown",
   "metadata": {},
   "source": [
    "<h2>Constant IP camera video stream</h2>\n",
    "<p>I've been unsuccesfull to get a stream from foscam cgi interface so far. Neither MJPEG from http protocol or rtsp protocol has been working dispite of using code examples from Foscam manual and several code examples from Internet.</p> "
   ]
  },
  {
   "cell_type": "code",
   "execution_count": 12,
   "metadata": {
    "collapsed": false
   },
   "outputs": [
    {
     "name": "stdout",
     "output_type": "stream",
     "text": [
      "b''\n"
     ]
    }
   ],
   "source": [
    "try:\n",
    "    from urllib import urlopen\n",
    "except ImportError:\n",
    "    from urllib.request import urlopen\n",
    "\n",
    "ip = ip1\n",
    "response = urlopen('http://%s:%s/cgi-bin/CGIStream.cgi?usr=%s&pwd=%s&cmd=GetMJStream' % (ip, 88, username, password))\n",
    "print(response.read())"
   ]
  },
  {
   "cell_type": "code",
   "execution_count": 13,
   "metadata": {
    "collapsed": false
   },
   "outputs": [
    {
     "name": "stdout",
     "output_type": "stream",
     "text": [
      "False None\n"
     ]
    }
   ],
   "source": [
    "ip = ip1\n",
    "cam = cv2.VideoCapture('rtsp://%s:%s@%s:%s/videoMain' % (username, password, ip, port))\n",
    "grabbed, frame = cam.read()\n",
    "print (grabbed, frame)"
   ]
  },
  {
   "cell_type": "markdown",
   "metadata": {},
   "source": [
    "<h1>The MIT License (MIT)</h1>\n",
    "\n",
    "<p>Copyright (c) 2016 Marko Manninen</p>"
   ]
  }
 ],
 "metadata": {
  "kernelspec": {
   "display_name": "Python 3",
   "language": "python",
   "name": "python3"
  },
  "language_info": {
   "codemirror_mode": {
    "name": "ipython",
    "version": 3
   },
   "file_extension": ".py",
   "mimetype": "text/x-python",
   "name": "python",
   "nbconvert_exporter": "python",
   "pygments_lexer": "ipython3",
   "version": "3.5.1"
  }
 },
 "nbformat": 4,
 "nbformat_minor": 0
}
